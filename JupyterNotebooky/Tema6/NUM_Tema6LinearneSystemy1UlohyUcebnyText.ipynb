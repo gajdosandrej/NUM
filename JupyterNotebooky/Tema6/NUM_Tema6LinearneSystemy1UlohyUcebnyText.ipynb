{
 "cells": [
  {
   "cell_type": "markdown",
   "metadata": {},
   "source": [
    "**Autor:** Andrej Gajdoš  <br> \n",
    "_[Ústav matematických vied](https://www.upjs.sk/prirodovedecka-fakulta/ustav/umv/), [Prírodovedecká fakulta](https://www.upjs.sk/prirodovedecka-fakulta/), Univerzita Pavla Jozefa Šafárika v Košiciach,_ <br> \n",
    "email: [andrej.gajdos@upjs.sk](mailto:andrej.gajdos@upjs.sk)\n",
    "*** \n",
    "\n",
    "**_Tento materiál vznikol za podpory grantu VVGS-2022-2412._**\n",
    "\n",
    "***\n",
    "\n",
    "**<font size=6 color=gold> NUM: Téma 6 - Lineárne systémy I.: úlohy k učebnému textu </font>** "
   ]
  },
  {
   "cell_type": "code",
   "execution_count": null,
   "metadata": {},
   "outputs": [],
   "source": [
    "# nacitanie potrebnych balikov v Python-e \n",
    "import math \n",
    "import numpy as np \n",
    "import sympy as sym \n",
    "import scipy as sci \n",
    "from decimal import Decimal\n",
    "from matplotlib import pyplot as plt"
   ]
  },
  {
   "cell_type": "markdown",
   "metadata": {},
   "source": [
    "--- \n",
    "\n",
    "**1. Zdôvodnite tvrdenie v prvom bode Poznámky 5 v učebnom texte.** "
   ]
  },
  {
   "cell_type": "code",
   "execution_count": null,
   "metadata": {},
   "outputs": [],
   "source": []
  },
  {
   "cell_type": "markdown",
   "metadata": {},
   "source": [
    "---\n",
    "\n",
    "**2. Ilustrujte na vlastnom príklade Poznámku 7. Pomôžte si experimentovaním v Python-e.**"
   ]
  },
  {
   "cell_type": "code",
   "execution_count": null,
   "metadata": {},
   "outputs": [],
   "source": []
  },
  {
   "cell_type": "markdown",
   "metadata": {},
   "source": [
    "---\n",
    "\n",
    "**3. Overte, že presné riešenie z Príkladu 5 je $\\mathbf{x}=(0,-1,1)'$. Taktiež overte, že zámena druhej a tretej rovnice nespôsobí (veľké) chyby v numerickom riešení, na rozdiel od riešenia prezentovaného v Príklade 5.** \n"
   ]
  },
  {
   "cell_type": "code",
   "execution_count": null,
   "metadata": {},
   "outputs": [],
   "source": []
  },
  {
   "cell_type": "markdown",
   "metadata": {},
   "source": [
    "--- \n",
    "\n",
    "**4. Odkrokujte v Pythone LU rozklad s čiastočným výberom pivota z Príkladu 6 - tzn. vytvárajte postupne matice $\\mathbf{A}^{(1)}$, $\\mathbf{A}^{(2)}$, $\\mathbf{A}^{(3)}$ a následne samotné matice $\\mathbf{P}$, $\\mathbf{L}$, $\\mathbf{U}$. Pomôcka: Na výmenu riadkov matice $\\mathbf{A}$ môžete použiť napr. príkaz `A[[0, 2]] = A[[2, 0]]` - tu ide konkrétne  výmenu nultého resp. prvého a druhého resp. tretieho riadka a je to v podstate skrátený príkaz `A[[0, 2], :] = A[[2, 0], :]`.**"
   ]
  },
  {
   "cell_type": "code",
   "execution_count": null,
   "metadata": {},
   "outputs": [],
   "source": []
  },
  {
   "cell_type": "markdown",
   "metadata": {},
   "source": [
    "--- \n",
    "\n",
    "**5.  Nájdite tri rôzne spôsoby pre výpočet determinantu v Python-e a aplikujte ich na výpočet $\\det(\\mathbf{A})$ pre maticu $\\mathbf{A}$ z Príkladu 2 v učebnom texte.**"
   ]
  },
  {
   "cell_type": "code",
   "execution_count": null,
   "metadata": {},
   "outputs": [],
   "source": []
  },
  {
   "cell_type": "markdown",
   "metadata": {},
   "source": [
    "--- \n",
    "\n",
    "**6. Zdôvodnite/overte, že vektorové normy $\\lVert\\mathbf{x}\\rVert_{1}$, $\\lVert\\mathbf{x}\\rVert_{2}$, $\\lVert\\mathbf{x}\\rVert_{\\infty}$ spĺňajú Definíciu 4.**"
   ]
  },
  {
   "cell_type": "code",
   "execution_count": null,
   "metadata": {},
   "outputs": [],
   "source": []
  },
  {
   "cell_type": "markdown",
   "metadata": {},
   "source": [
    "--- \n",
    "\n",
    "**7. Uvažujte maticu $\\mathbf{A}=\\begin{pmatrix}2&2&6\\\\1&3&9\\\\6&1&0\\end{pmatrix}$. Riadne vypočítajte a následne  overte v Python-e: $\\lVert\\mathbf{A}\\rVert_{1}$, $\\lVert\\mathbf{A}\\rVert_{2}$, $\\lVert\\mathbf{A}\\rVert_{\\infty}$, $\\lVert\\mathbf{A}\\rVert_{F}$.** "
   ]
  },
  {
   "cell_type": "code",
   "execution_count": null,
   "metadata": {},
   "outputs": [],
   "source": []
  },
  {
   "cell_type": "markdown",
   "metadata": {},
   "source": [
    "--- \n",
    "\n",
    "**8. Aké <font color=red> konkrétne </font> otázky máte k náplni študijných materiálov, ktoré by ste chceli na hodine prediskutovať?**"
   ]
  },
  {
   "cell_type": "code",
   "execution_count": null,
   "metadata": {},
   "outputs": [],
   "source": []
  }
 ],
 "metadata": {
  "kernelspec": {
   "display_name": "Python 3",
   "language": "python",
   "name": "python3"
  },
  "language_info": {
   "codemirror_mode": {
    "name": "ipython",
    "version": 3
   },
   "file_extension": ".py",
   "mimetype": "text/x-python",
   "name": "python",
   "nbconvert_exporter": "python",
   "pygments_lexer": "ipython3",
   "version": "3.7.3"
  },
  "varInspector": {
   "cols": {
    "lenName": 16,
    "lenType": 16,
    "lenVar": 40
   },
   "kernels_config": {
    "python": {
     "delete_cmd_postfix": "",
     "delete_cmd_prefix": "del ",
     "library": "var_list.py",
     "varRefreshCmd": "print(var_dic_list())"
    },
    "r": {
     "delete_cmd_postfix": ") ",
     "delete_cmd_prefix": "rm(",
     "library": "var_list.r",
     "varRefreshCmd": "cat(var_dic_list()) "
    }
   },
   "types_to_exclude": [
    "module",
    "function",
    "builtin_function_or_method",
    "instance",
    "_Feature"
   ],
   "window_display": false
  }
 },
 "nbformat": 4,
 "nbformat_minor": 2
}
